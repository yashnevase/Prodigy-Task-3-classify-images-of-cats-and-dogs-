{
 "cells": [
  {
   "cell_type": "code",
   "execution_count": 9,
   "metadata": {},
   "outputs": [],
   "source": [
    "import os\n",
    "import numpy as np\n",
    "import matplotlib.pyplot as plt\n",
    "import cv2\n",
    "import pickle\n",
    "import random\n",
    "from sklearn.model_selection  import train_test_split\n",
    "from sklearn.svm import SVC"
   ]
  },
  {
   "cell_type": "code",
   "execution_count": 3,
   "metadata": {},
   "outputs": [],
   "source": [
    "dir = 'D:\\\\cat dog\\\\train'"
   ]
  },
  {
   "cell_type": "code",
   "execution_count": 13,
   "metadata": {},
   "outputs": [
    {
     "name": "stdout",
     "output_type": "stream",
     "text": [
      "Length of data: 557\n"
     ]
    }
   ],
   "source": [
    "categories = ['cats','dogs']\n",
    "\n",
    "data = []\n",
    "\n",
    "'''\n",
    "for category in categories:\n",
    "    path = os.path.join(dir,category)\n",
    "    label = categories.index(category)\n",
    "\n",
    "\n",
    "    for img in os.listdir(path):\n",
    "        imgpath = os.path.join(path,img)\n",
    "        pet_img = cv2.imread(imgpath,0)\n",
    "        try:\n",
    "            pet_img=cv2.resize(pet_img,(50,50))\n",
    "            image = np.array(pet_img).flattern()\n",
    "            data.append([image,label])\n",
    "\n",
    "        except Exception as e:\n",
    "            pass\n",
    "\n",
    "print(len(data))\n",
    "'''\n",
    "\n",
    "for category in categories:\n",
    "    path = os.path.join(dir, category)\n",
    "    label = categories.index(category)\n",
    "\n",
    "    for img in os.listdir(path):\n",
    "        imgpath = os.path.join(path, img)\n",
    "        pet_img = cv2.imread(imgpath, 0)  # Load in grayscale mode\n",
    "        try:\n",
    "            pet_img = cv2.resize(pet_img, (50, 50))\n",
    "            image = np.array(pet_img).flatten()  # Corrected typo: .flatten() instead of .flattern()\n",
    "            data.append([image, label])\n",
    "\n",
    "        except Exception as e:\n",
    "            pass\n",
    "\n",
    "print(\"Length of data:\", len(data))\n",
    "\n",
    "pick_in = open('data1.pickle','wb')\n",
    "pickle.dump(data, pick_in)\n",
    "pick_in.close()"
   ]
  },
  {
   "cell_type": "code",
   "execution_count": 40,
   "metadata": {},
   "outputs": [
    {
     "name": "stdout",
     "output_type": "stream",
     "text": [
      "Accuracy: 0.6071428571428571\n",
      "Prediction is :    cats\n"
     ]
    },
    {
     "data": {
      "image/png": "[encoded data removed]",
      "text/plain": [
       "<Figure size 640x480 with 1 Axes>"
      ]
     },
     "metadata": {},
     "output_type": "display_data"
    }
   ],
   "source": [
    "pick_in = open('data1.pickle','rb')\n",
    "data=pickle.load(pick_in)\n",
    "pick_in.close()\n",
    "\n",
    "random.shuffle(data)\n",
    "features = []\n",
    "labels = []\n",
    "\n",
    "for feature ,label in data:\n",
    "    features.append(feature)\n",
    "    labels.append(label)\n",
    "\n",
    "xtrain, xtest, ytrain, ytest = train_test_split(features, labels, test_size=0.25)\n",
    "\n",
    "#xtrain,xtest, ytrain, ytest =  train_test_split(features, labels, labels,test_size=0.25)\n",
    "\n",
    "model = SVC(C=1,kernel='poly',gamma='auto')\n",
    "model.fit(xtrain,ytrain)\n",
    "\n",
    "pick = open('model.sav','wb')\n",
    "pickle.dump(model,pick)\n",
    "pick.close()\n",
    "\n",
    "\n",
    "prediction=model.predict(xtest)\n",
    "accuracy=model.score(xtest,ytest)\n",
    "\n",
    "categories =['cats','dogs']\n",
    "\n",
    "print('Accuracy:',accuracy)\n",
    "\n",
    "print('Prediction is :   ', categories[prediction[0]])\n",
    "\n",
    "mypet=xtest[0].reshape(50,50)\n",
    "plt.imshow(mypet,cmap='gray')\n",
    "plt.show()                      \n",
    "\n",
    "\n",
    "\n",
    "\n"
   ]
  },
  {
   "cell_type": "code",
   "execution_count": null,
   "metadata": {},
   "outputs": [],
   "source": []
  }
 ],
 "metadata": {
  "kernelspec": {
   "display_name": "Python 3",
   "language": "python",
   "name": "python3"
  },
  "language_info": {
   "codemirror_mode": {
    "name": "ipython",
    "version": 3
   },
   "file_extension": ".py",
   "mimetype": "text/x-python",
   "name": "python",
   "nbconvert_exporter": "python",
   "pygments_lexer": "ipython3",
   "version": "3.12.0"
  }
 },
 "nbformat": 4,
 "nbformat_minor": 2
}
